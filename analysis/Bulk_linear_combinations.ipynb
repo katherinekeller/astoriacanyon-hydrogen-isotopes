{
 "cells": [
  {
   "cell_type": "code",
   "execution_count": 1,
   "metadata": {},
   "outputs": [],
   "source": [
    "import numpy as np\n",
    "import pandas as pd\n"
   ]
  },
  {
   "cell_type": "code",
   "execution_count": 2,
   "metadata": {},
   "outputs": [],
   "source": [
    "# Define the endmember distributions from Keller et al., 2024 (Organic Geochemistry)\n",
    "gdgt_distribution = np.array([[0.31, 0.18, 0.40, 0.06, 0.05, 0.01], #meth, modify iGDGT-4 to account for minor presence  \n",
    "    [0.46, 0.07, 0.03, 0.00, 0.00, 0.43]]) #plank"
   ]
  },
  {
   "cell_type": "code",
   "execution_count": 3,
   "metadata": {},
   "outputs": [
    {
     "data": {
      "text/html": [
       "<div>\n",
       "<style scoped>\n",
       "    .dataframe tbody tr th:only-of-type {\n",
       "        vertical-align: middle;\n",
       "    }\n",
       "\n",
       "    .dataframe tbody tr th {\n",
       "        vertical-align: top;\n",
       "    }\n",
       "\n",
       "    .dataframe thead th {\n",
       "        text-align: right;\n",
       "    }\n",
       "</style>\n",
       "<table border=\"1\" class=\"dataframe\">\n",
       "  <thead>\n",
       "    <tr style=\"text-align: right;\">\n",
       "      <th></th>\n",
       "      <th>Name</th>\n",
       "      <th>G0</th>\n",
       "      <th>G1</th>\n",
       "      <th>G2</th>\n",
       "      <th>G3</th>\n",
       "      <th>G4</th>\n",
       "      <th>Cren</th>\n",
       "      <th>G5</th>\n",
       "    </tr>\n",
       "  </thead>\n",
       "  <tbody>\n",
       "    <tr>\n",
       "      <th>0</th>\n",
       "      <td>S1</td>\n",
       "      <td>0.389506</td>\n",
       "      <td>0.097763</td>\n",
       "      <td>0.157369</td>\n",
       "      <td>0.042605</td>\n",
       "      <td>0.000274</td>\n",
       "      <td>0.306266</td>\n",
       "      <td>0.006217</td>\n",
       "    </tr>\n",
       "    <tr>\n",
       "      <th>1</th>\n",
       "      <td>S4</td>\n",
       "      <td>0.481303</td>\n",
       "      <td>0.112187</td>\n",
       "      <td>0.158765</td>\n",
       "      <td>0.021725</td>\n",
       "      <td>0.003057</td>\n",
       "      <td>0.219767</td>\n",
       "      <td>0.003197</td>\n",
       "    </tr>\n",
       "    <tr>\n",
       "      <th>2</th>\n",
       "      <td>S5</td>\n",
       "      <td>0.435868</td>\n",
       "      <td>0.157116</td>\n",
       "      <td>0.226899</td>\n",
       "      <td>0.031261</td>\n",
       "      <td>0.002502</td>\n",
       "      <td>0.144034</td>\n",
       "      <td>0.002321</td>\n",
       "    </tr>\n",
       "    <tr>\n",
       "      <th>3</th>\n",
       "      <td>S7</td>\n",
       "      <td>0.416644</td>\n",
       "      <td>0.092921</td>\n",
       "      <td>0.127931</td>\n",
       "      <td>0.056481</td>\n",
       "      <td>0.008502</td>\n",
       "      <td>0.292885</td>\n",
       "      <td>0.004636</td>\n",
       "    </tr>\n",
       "    <tr>\n",
       "      <th>4</th>\n",
       "      <td>S9</td>\n",
       "      <td>0.302591</td>\n",
       "      <td>0.107944</td>\n",
       "      <td>0.248903</td>\n",
       "      <td>0.116816</td>\n",
       "      <td>0.015371</td>\n",
       "      <td>0.204646</td>\n",
       "      <td>0.003729</td>\n",
       "    </tr>\n",
       "    <tr>\n",
       "      <th>5</th>\n",
       "      <td>S10</td>\n",
       "      <td>0.272736</td>\n",
       "      <td>0.108790</td>\n",
       "      <td>0.270738</td>\n",
       "      <td>0.134849</td>\n",
       "      <td>0.019270</td>\n",
       "      <td>0.190468</td>\n",
       "      <td>0.003149</td>\n",
       "    </tr>\n",
       "    <tr>\n",
       "      <th>6</th>\n",
       "      <td>S11</td>\n",
       "      <td>0.251405</td>\n",
       "      <td>0.116905</td>\n",
       "      <td>0.282700</td>\n",
       "      <td>0.168619</td>\n",
       "      <td>0.026520</td>\n",
       "      <td>0.151434</td>\n",
       "      <td>0.002418</td>\n",
       "    </tr>\n",
       "  </tbody>\n",
       "</table>\n",
       "</div>"
      ],
      "text/plain": [
       "  Name        G0        G1        G2        G3        G4      Cren        G5\n",
       "0   S1  0.389506  0.097763  0.157369  0.042605  0.000274  0.306266  0.006217\n",
       "1   S4  0.481303  0.112187  0.158765  0.021725  0.003057  0.219767  0.003197\n",
       "2   S5  0.435868  0.157116  0.226899  0.031261  0.002502  0.144034  0.002321\n",
       "3   S7  0.416644  0.092921  0.127931  0.056481  0.008502  0.292885  0.004636\n",
       "4   S9  0.302591  0.107944  0.248903  0.116816  0.015371  0.204646  0.003729\n",
       "5  S10  0.272736  0.108790  0.270738  0.134849  0.019270  0.190468  0.003149\n",
       "6  S11  0.251405  0.116905  0.282700  0.168619  0.026520  0.151434  0.002418"
      ]
     },
     "execution_count": 3,
     "metadata": {},
     "output_type": "execute_result"
    }
   ],
   "source": [
    "#import sample data from Keller et al., 2024\n",
    "fn = '../data/AC_relative_abundance_bulk.xlsx'\n",
    "sample_data= pd.read_excel(fn, sheet_name='gdgt_rel_abund')\n",
    "sample_data\n",
    "\n"
   ]
  },
  {
   "cell_type": "code",
   "execution_count": 4,
   "metadata": {},
   "outputs": [
    {
     "name": "stdout",
     "output_type": "stream",
     "text": [
      "Updated Sample Data:\n",
      "  Name        G0        G1        G2        G3        G4      Cren        G5  \\\n",
      "0   S1  0.389506  0.097763  0.157369  0.042605  0.000274  0.306266  0.006217   \n",
      "1   S4  0.481303  0.112187  0.158765  0.021725  0.003057  0.219767  0.003197   \n",
      "2   S5  0.435868  0.157116  0.226899  0.031261  0.002502  0.144034  0.002321   \n",
      "3   S7  0.416644  0.092921  0.127931  0.056481  0.008502  0.292885  0.004636   \n",
      "4   S9  0.302591  0.107944  0.248903  0.116816  0.015371  0.204646  0.003729   \n",
      "5  S10  0.272736  0.108790  0.270738  0.134849  0.019270  0.190468  0.003149   \n",
      "6  S11  0.251405  0.116905  0.282700  0.168619  0.026520  0.151434  0.002418   \n",
      "\n",
      "   Best_Match_%Meth  \n",
      "0              0.33  \n",
      "1              0.39  \n",
      "2              0.59  \n",
      "3              0.30  \n",
      "4              0.60  \n",
      "5              0.65  \n",
      "6              0.73  \n",
      "\n",
      "Fractional Contributions:\n",
      "  Sample  Methane-cycling  Planktonic\n",
      "0     S1             0.33        0.67\n",
      "1     S4             0.39        0.61\n",
      "2     S5             0.59        0.41\n",
      "3     S7             0.30        0.70\n",
      "4     S9             0.60        0.40\n",
      "5    S10             0.65        0.35\n",
      "6    S11             0.73        0.27\n"
     ]
    }
   ],
   "source": [
    "#Generate linear combinations\n",
    "\n",
    "sample_distributions = sample_data.iloc[:, 1:].to_numpy()\n",
    "\n",
    "fractions = np.linspace(0, 1, 101)  # Fractions from 0% to 100% in 1% increments\n",
    "linear_combinations = np.array([f * meth + (1 - f) * planktonic for f in fractions])\n",
    "\n",
    "# Calculate the best match for each sample\n",
    "best_matches = []\n",
    "for sample in sample_distributions:\n",
    "    mse = np.mean((linear_combinations - sample) ** 2, axis=1)\n",
    "    best_fraction_index = np.argmin(mse)\n",
    "    best_fraction = fractions[best_fraction_index]\n",
    "    best_matches.append(best_fraction)\n",
    "\n",
    "# Add the best match to the DataFrame\n",
    "sample_data['Best_Match_%Meth'] = np.array(best_matches) \n",
    "\n",
    "# Create a new DataFrame for fractional contributions\n",
    "fractional_contributions = pd.DataFrame({\n",
    "    'Sample': sample_data['Name'],\n",
    "    'Methane-cycling': sample_data['Best_Match_%Meth'],\n",
    "    'Planktonic': 1- sample_data['Best_Match_%Meth']\n",
    "})\n",
    "\n",
    "print(\"Updated Sample Data:\")\n",
    "print(sample_data)\n",
    "\n",
    "print(\"\\nFractional Contributions:\")\n",
    "print(fractional_contributions)\n",
    "\n",
    "\n",
    "\n",
    "\n",
    "\n",
    "\n"
   ]
  },
  {
   "cell_type": "code",
   "execution_count": 5,
   "metadata": {},
   "outputs": [],
   "source": [
    "#convert % contribution to fractions\n",
    "fract_cont= fractional_contributions[['Methane-cycling', 'Planktonic']].to_numpy() \n"
   ]
  },
  {
   "cell_type": "code",
   "execution_count": 8,
   "metadata": {},
   "outputs": [
    {
     "data": {
      "text/plain": [
       "array([[0.5125, 0.32  , 0.16  , 0.    , 0.0125, 0.005 ],\n",
       "       [0.5025, 0.05  , 0.2225, 0.    , 0.    , 0.215 ]])"
      ]
     },
     "execution_count": 8,
     "metadata": {},
     "output_type": "execute_result"
    }
   ],
   "source": [
    "# biphytane endmember stoichiometry using best fit stoichiometry and gdgt distributions from Keller et al., 2024 (Organic Geochemistry)\n",
    "best_fit_stoichiometry =  np.array([\n",
    "        [2, 0, 0, 0, 0, 0],\n",
    "        [1, 1, 0, 0, 0, 0],\n",
    "        [0.5, 1, 0.5, 0, 0, 0],\n",
    "        [0, 1, 1, 0, 0, 0],\n",
    "        [0.5, 0, 1, 0, 0.5, 0],\n",
    "        [0, 0, 1, 0, 0, 1],\n",
    "    ])\n",
    "\n",
    "biphytane_stoich = 0.5*np.dot(gdgt_distribution,best_fit_stoichiometry)\n",
    "biphytane_stoich"
   ]
  },
  {
   "cell_type": "code",
   "execution_count": 9,
   "metadata": {},
   "outputs": [],
   "source": [
    "#calculate relative abundances of biphytanes per samples\n",
    "rel_abund = np.dot(fract_cont,biphytane_stoich)"
   ]
  },
  {
   "cell_type": "code",
   "execution_count": 10,
   "metadata": {},
   "outputs": [],
   "source": [
    "#define the d2h optimized endmember values from model results\n",
    "d2h_plank = -308\n",
    "d2h_meth = -222\n"
   ]
  },
  {
   "cell_type": "code",
   "execution_count": 11,
   "metadata": {},
   "outputs": [],
   "source": [
    "\n",
    "# Calculate d2H Bulk Matrix\n",
    "def calculate_d2h_bulk(fract_cont, biphytane_stoich, rel_abund, d2h_meth, d2h_plank):\n",
    "    num_samples, num_biphytanes = rel_abund.shape\n",
    "    d2h_bulk = np.zeros((num_samples, num_biphytanes))\n",
    "\n",
    "    for i in range(num_samples):\n",
    "        for j in range(num_biphytanes):\n",
    "            numerator = (\n",
    "                fract_cont[i, 0] * d2h_meth * biphytane_stoich[0, j] +\n",
    "                fract_cont[i, 1] * d2h_plank * biphytane_stoich[1, j]\n",
    "            )\n",
    "            d2h_bulk[i, j] = numerator / (rel_abund[i, j] + 1e-10)  # Prevent division by zero\n",
    "    \n",
    "    return d2h_bulk\n",
    "\n",
    "d2h_bulk_matrix = calculate_d2h_bulk(fract_cont, biphytane_stoich, rel_abund, d2h_meth, d2h_plank)"
   ]
  },
  {
   "cell_type": "code",
   "execution_count": 12,
   "metadata": {},
   "outputs": [
    {
     "data": {
      "text/plain": [
       "array([[-279.24406875, -242.71171801, -285.50687292,   -0.        ,\n",
       "        -221.99999462, -307.02608078],\n",
       "       [-274.05598336, -238.88989038, -280.91406926,   -0.        ,\n",
       "        -221.99999545, -306.74004485],\n",
       "       [-256.8508064 , -230.4233157 , -264.26451164,   -0.        ,\n",
       "        -221.99999699, -305.21514785],\n",
       "       [-281.84272991, -244.97709905, -287.73987716,   -0.        ,\n",
       "        -221.99999408, -307.15131559],\n",
       "       [-255.99410024, -230.11320744, -263.37297283,   -0.        ,\n",
       "        -221.99999704, -305.10112325],\n",
       "       [-251.71561881, -228.67405755, -258.82336756,   -0.        ,\n",
       "        -221.99999727, -304.43949006],\n",
       "       [-244.88750486, -226.69850254, -251.20961117,   -0.        ,\n",
       "        -221.99999757, -302.91247925]])"
      ]
     },
     "execution_count": 12,
     "metadata": {},
     "output_type": "execute_result"
    }
   ],
   "source": [
    "d2h_bulk_matrix"
   ]
  }
 ],
 "metadata": {
  "kernelspec": {
   "display_name": "ac-d2h",
   "language": "python",
   "name": "python3"
  },
  "language_info": {
   "codemirror_mode": {
    "name": "ipython",
    "version": 3
   },
   "file_extension": ".py",
   "mimetype": "text/x-python",
   "name": "python",
   "nbconvert_exporter": "python",
   "pygments_lexer": "ipython3",
   "version": "3.12.3"
  }
 },
 "nbformat": 4,
 "nbformat_minor": 2
}
